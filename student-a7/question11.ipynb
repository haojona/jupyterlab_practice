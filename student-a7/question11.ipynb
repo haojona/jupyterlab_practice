{
 "cells": [
  {
   "cell_type": "markdown",
   "id": "a11edfe2-8606-41de-9083-cadf7e1823dd",
   "metadata": {},
   "source": [
    "# Jonathan Hao\n",
    "Notebook for assignment 7"
   ]
  },
  {
   "cell_type": "code",
   "execution_count": 1,
   "id": "168d51a2-be03-4377-967d-d21908bddeb0",
   "metadata": {},
   "outputs": [
    {
     "data": {
      "text/plain": [
       "5.0"
      ]
     },
     "execution_count": 1,
     "metadata": {},
     "output_type": "execute_result"
    }
   ],
   "source": [
    "def compute_mean(x):\n",
    "    z = 0\n",
    "    for i in x:\n",
    "        z = z + i\n",
    "    return z / len(x)\n",
    "\n",
    "compute_mean([2, 4, 6, 8])"
   ]
  },
  {
   "cell_type": "markdown",
   "id": "79e91a79-83c2-4952-ae8f-0dd77b621e99",
   "metadata": {},
   "source": [
    "The function takes a list x , uses a baseline variable z, with a starting value of 0 and a for loop in which all values within the list x are summed and then afterwards, after the for loop resolves, takes the sum and divides it by the length of the list to find the mean value of the list.\n",
    "\n",
    "Latex expression : $$x̄ = \\frac{x_1 + x_2 + \\cdots + x_n}{n} = \\frac{1}{n}\\left(\\sum_{i = 1}^{n}{x_i}\\right)$$\n",
    " "
   ]
  }
 ],
 "metadata": {
  "kernelspec": {
   "display_name": "Python 3 (ipykernel)",
   "language": "python",
   "name": "python3"
  },
  "language_info": {
   "codemirror_mode": {
    "name": "ipython",
    "version": 3
   },
   "file_extension": ".py",
   "mimetype": "text/x-python",
   "name": "python",
   "nbconvert_exporter": "python",
   "pygments_lexer": "ipython3",
   "version": "3.10.10"
  }
 },
 "nbformat": 4,
 "nbformat_minor": 5
}
